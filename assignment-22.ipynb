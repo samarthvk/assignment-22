{
 "cells": [
  {
   "cell_type": "markdown",
   "id": "855e8e85",
   "metadata": {},
   "source": [
    "### 1. What is the result of the code, and explain?\n",
    "\n",
    "\n",
    "##### >>> X = 'iNeuron'\n",
    "#### >>> def func():\n",
    "#### print(X)\n",
    "#### >>> func()\n"
   ]
  },
  {
   "cell_type": "code",
   "execution_count": 3,
   "id": "caa21113",
   "metadata": {},
   "outputs": [
    {
     "name": "stdout",
     "output_type": "stream",
     "text": [
      "iNeuron\n"
     ]
    }
   ],
   "source": [
    "X = 'iNeuron'\n",
    "def func():\n",
    "    print(X)\n",
    "func()"
   ]
  },
  {
   "cell_type": "raw",
   "id": "2316462a",
   "metadata": {},
   "source": [
    "The global variables are accessible in side the functions in python,But we can not access function variable out side function, Since x is global variable we are able to print - iNeuron"
   ]
  },
  {
   "cell_type": "markdown",
   "id": "b8f88533",
   "metadata": {},
   "source": [
    "###  2. What is the result of the code, and explain?\n",
    "\n",
    "\n",
    "#### X = 'iNeuron'\n",
    "#### def func():\n",
    "#### X = 'NI!'\n",
    "\n",
    "\n",
    "#### func()\n",
    "#### print(X)\n"
   ]
  },
  {
   "cell_type": "code",
   "execution_count": 4,
   "id": "0298dd9e",
   "metadata": {},
   "outputs": [
    {
     "name": "stdout",
     "output_type": "stream",
     "text": [
      "iNeuron\n"
     ]
    }
   ],
   "source": [
    "X = 'iNeuron'\n",
    "def func():\n",
    "    X = 'NI!'\n",
    "func()\n",
    "print(X)"
   ]
  },
  {
   "cell_type": "raw",
   "id": "7ed8804e",
   "metadata": {},
   "source": [
    "The global variables are access in side the functions in python. But we can not access function variable out side function, Since x is golbal variable we are able to print it out side of the function solution = 'iNeuron'"
   ]
  },
  {
   "cell_type": "markdown",
   "id": "bb75bf59",
   "metadata": {},
   "source": [
    "### 3. What does this code print, and why?\n",
    "\n",
    "\n",
    "#### X = 'iNeuron'\n",
    "#### def func():\n",
    "#### X = 'NI'\n",
    "#### print(X)\n",
    "\n",
    "\n",
    "#### func()\n",
    "#### print(X)\n"
   ]
  },
  {
   "cell_type": "code",
   "execution_count": 6,
   "id": "7843d0e8",
   "metadata": {},
   "outputs": [
    {
     "name": "stdout",
     "output_type": "stream",
     "text": [
      "NI\n",
      "iNeuron\n"
     ]
    }
   ],
   "source": [
    "X = 'iNeuron'\n",
    "def func():\n",
    "    X = 'NI'\n",
    "    print(X)\n",
    "func()\n",
    "print(X)"
   ]
  },
  {
   "cell_type": "raw",
   "id": "d588e2d2",
   "metadata": {},
   "source": [
    "The output of the code is NI and iNeuron. X=NI is in the local scope of the function func() hence the function prints the x value as NI. X = 'iNeuron' is in the global scope. hence print(X) prints output as iNeuron"
   ]
  },
  {
   "cell_type": "markdown",
   "id": "cea3052e",
   "metadata": {},
   "source": [
    "### 4. What output does this code produce? Why?\n",
    "\n",
    "\n",
    "#### >>> X = 'iNeuron'\n",
    "#### >>> def func():\n",
    "#### global X\n",
    "#### X = 'NI'\n",
    "\n",
    "\n",
    "#### >>> func()\n",
    "#### >>> print(X)\n"
   ]
  },
  {
   "cell_type": "code",
   "execution_count": 8,
   "id": "dbef223a",
   "metadata": {},
   "outputs": [
    {
     "name": "stdout",
     "output_type": "stream",
     "text": [
      "NI\n"
     ]
    }
   ],
   "source": [
    "X = 'iNeuron'\n",
    "def func():\n",
    "    global X\n",
    "    X = 'NI'\n",
    "func()\n",
    "print(X)"
   ]
  },
  {
   "cell_type": "raw",
   "id": "bb7cd05c",
   "metadata": {},
   "source": [
    "The output of the code is NI. the global keyword allows a variable to be accessible in the current scope. since we are using global keyword inside the function func it directly access the variable in X in global scope. and changes its value to NI. hence the output of the code is NI"
   ]
  },
  {
   "cell_type": "markdown",
   "id": "959a424c",
   "metadata": {},
   "source": [
    "### 5. What about this code—what’s the output, and why?\n",
    "\n",
    "\n",
    "#### >>> X = 'iNeuron'\n",
    "#### >>> def func():\n",
    "#### X = 'NI'\n",
    "#### def nested():\n",
    "#### print(X)\n",
    "#### nested()\n",
    "\n",
    "\n",
    "#### >>> func()\n",
    "#### >>> X\n"
   ]
  },
  {
   "cell_type": "code",
   "execution_count": 14,
   "id": "9a21272c",
   "metadata": {},
   "outputs": [
    {
     "name": "stdout",
     "output_type": "stream",
     "text": [
      "NI\n"
     ]
    },
    {
     "data": {
      "text/plain": [
       "'iNeuron'"
      ]
     },
     "execution_count": 14,
     "metadata": {},
     "output_type": "execute_result"
    }
   ],
   "source": [
    "X = 'iNeuron'\n",
    "def func():\n",
    "    X = 'NI'\n",
    "    def nested():\n",
    "        print(X)\n",
    "    nested()\n",
    "func()\n",
    "X"
   ]
  },
  {
   "cell_type": "raw",
   "id": "2f57650f",
   "metadata": {},
   "source": [
    "e output of the code is NI. the reason for this output is if a function wants to access a variable, if its not available in its localscope. it looks for the variable in its global scope. similarly here also function nested looks for variable X in its global scope. hence the output of the code is NI"
   ]
  },
  {
   "cell_type": "markdown",
   "id": "a90eec60",
   "metadata": {},
   "source": [
    "### 6. How about this code: what is its output in Python 3, and explain?\n",
    "\n",
    "\n",
    "#### def func():\n",
    "#### X = 'NI'\n",
    "#### def nested():\n",
    "#### nonlocal X\n",
    "#### X = 'Spam'\n",
    "#### nested()\n",
    "#### print(X)\n",
    "\n",
    "\n",
    "#### func()\n"
   ]
  },
  {
   "cell_type": "code",
   "execution_count": 1,
   "id": "66768b23",
   "metadata": {},
   "outputs": [
    {
     "name": "stdout",
     "output_type": "stream",
     "text": [
      "Spam\n"
     ]
    }
   ],
   "source": [
    "def func():\n",
    "    X = 'NI'\n",
    "    def nested():\n",
    "        nonlocal X\n",
    "        X = 'Spam'\n",
    "    nested()\n",
    "    print(X)\n",
    "func()"
   ]
  },
  {
   "cell_type": "raw",
   "id": "1ab4730a",
   "metadata": {},
   "source": [
    "The output of the code is Spam. nonlocal keyword in python is used to declare a variable as not local.Hence the statement X = \"Spam\" is modified in the global scope. hence the output of print(X) statement is Spam"
   ]
  },
  {
   "cell_type": "code",
   "execution_count": null,
   "id": "28a84edb",
   "metadata": {},
   "outputs": [],
   "source": []
  }
 ],
 "metadata": {
  "kernelspec": {
   "display_name": "Python 3 (ipykernel)",
   "language": "python",
   "name": "python3"
  },
  "language_info": {
   "codemirror_mode": {
    "name": "ipython",
    "version": 3
   },
   "file_extension": ".py",
   "mimetype": "text/x-python",
   "name": "python",
   "nbconvert_exporter": "python",
   "pygments_lexer": "ipython3",
   "version": "3.9.7"
  }
 },
 "nbformat": 4,
 "nbformat_minor": 5
}
